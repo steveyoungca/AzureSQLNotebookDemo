{
    "metadata": {
        "kernelspec": {
            "name": "SQL",
            "display_name": "SQL",
            "language": "sql"
        },
        "language_info": {
            "name": "sql",
            "version": ""
        }
    },
    "nbformat_minor": 2,
    "nbformat": 4,
    "cells": [
        {
            "cell_type": "markdown",
            "source": [
                "# Introduction To Azure Data Studio Notebooks\r\n",
                "## Step 1 - Run a Simple Query\r\n",
                "\r\n",
                "User SQL VM 2019 with WorldWideImporters.\r\n",
                "\r\n",
                "Given that this is markdown, you have alot of control as to the formatting.  In looking at the following [Markdown Reference](https://guides.github.com/features/mastering-markdown/) you can get an introduciton to the GitHub flavor of Markdown.  The really interesting thing I <**noteced**> when I first went through the Azure Data Studio functionality is the WYSIWYG preview as your add text.  Not alot of Markdown editors do that."
            ],
            "metadata": {
                "azdata_cell_guid": "8531d2cd-7067-430c-b910-527199ee3d61",
                "tags": []
            }
        },
        {
            "cell_type": "markdown",
            "source": [
                "### Run some code.\r\n",
                "The connetect at the top shows what DB your are attached to.  Lets run the following query to see what tables are in the database. in the sales schema."
            ],
            "metadata": {
                "azdata_cell_guid": "d85198e4-e1f8-4461-a1de-e448de414394",
                "tags": []
            }
        },
        {
            "cell_type": "markdown",
            "source": [
                "## Intellisense\r\n",
                "\r\n",
                "Select * from sales.BuyingGroups\r\n",
                ""
            ],
            "metadata": {
                "azdata_cell_guid": "2f9d18d3-2882-49d5-947e-aa65a9c9e8d9"
            }
        },
        {
            "cell_type": "code",
            "source": [
                "Select *  "
            ],
            "metadata": {
                "azdata_cell_guid": "8f8e9370-6fdd-46be-b149-2e80f2591a96"
            },
            "outputs": [],
            "execution_count": 0
        },
        {
            "cell_type": "code",
            "source": [
                "select schema_name(schema_id) as schema_name,\r\n",
                "       [name] as table_name, [create_date] as date_created, [modify_date] as date_modified\r\n",
                "from sys.tables \r\n",
                "where schema_name(schema_id) = 'sales'  \r\n",
                "order by table_name;"
            ],
            "metadata": {
                "azdata_cell_guid": "99d6819f-2a59-42e6-8c13-4650fbfb4803",
                "tags": []
            },
            "outputs": [
                {
                    "output_type": "display_data",
                    "data": {
                        "text/html": "(12 rows affected)"
                    },
                    "metadata": {}
                },
                {
                    "output_type": "display_data",
                    "data": {
                        "text/html": "Total execution time: 00:00:00.008"
                    },
                    "metadata": {}
                },
                {
                    "output_type": "execute_result",
                    "metadata": {},
                    "execution_count": 3,
                    "data": {
                        "application/vnd.dataresource+json": {
                            "schema": {
                                "fields": [
                                    {
                                        "name": "schema_name"
                                    },
                                    {
                                        "name": "table_name"
                                    },
                                    {
                                        "name": "date_created"
                                    },
                                    {
                                        "name": "date_modified"
                                    }
                                ]
                            },
                            "data": [
                                {
                                    "0": "Sales",
                                    "1": "BuyingGroups",
                                    "2": "2016-06-02 10:04:03.263",
                                    "3": "2016-06-02 10:50:09.773"
                                },
                                {
                                    "0": "Sales",
                                    "1": "BuyingGroups_Archive",
                                    "2": "2016-06-02 10:04:03.267",
                                    "3": "2016-06-06 11:06:36.787"
                                },
                                {
                                    "0": "Sales",
                                    "1": "CustomerCategories",
                                    "2": "2016-06-02 10:04:03.270",
                                    "3": "2016-06-02 10:50:09.777"
                                },
                                {
                                    "0": "Sales",
                                    "1": "CustomerCategories_Archive",
                                    "2": "2016-06-02 10:04:03.273",
                                    "3": "2016-06-06 11:06:36.790"
                                },
                                {
                                    "0": "Sales",
                                    "1": "Customers",
                                    "2": "2016-06-02 10:04:03.387",
                                    "3": "2016-06-02 10:50:16.953"
                                },
                                {
                                    "0": "Sales",
                                    "1": "Customers_Archive",
                                    "2": "2016-06-02 10:04:03.390",
                                    "3": "2016-06-06 11:06:34.773"
                                },
                                {
                                    "0": "Sales",
                                    "1": "CustomerTransactions",
                                    "2": "2016-06-02 10:04:03.607",
                                    "3": "2016-06-06 11:07:00.153"
                                },
                                {
                                    "0": "Sales",
                                    "1": "InvoiceLines",
                                    "2": "2016-06-02 10:04:03.627",
                                    "3": "2016-06-06 11:06:39.317"
                                },
                                {
                                    "0": "Sales",
                                    "1": "Invoices",
                                    "2": "2016-06-02 10:04:03.540",
                                    "3": "2016-06-02 10:04:03.643"
                                },
                                {
                                    "0": "Sales",
                                    "1": "OrderLines",
                                    "2": "2016-06-02 10:04:03.573",
                                    "3": "2016-06-06 11:06:37.913"
                                },
                                {
                                    "0": "Sales",
                                    "1": "Orders",
                                    "2": "2016-06-02 10:04:03.433",
                                    "3": "2016-06-02 10:04:03.573"
                                },
                                {
                                    "0": "Sales",
                                    "1": "SpecialDeals",
                                    "2": "2016-06-02 10:04:03.513",
                                    "3": "2016-06-02 10:04:03.540"
                                }
                            ]
                        },
                        "text/html": "<table><tr><th>schema_name</th><th>table_name</th><th>date_created</th><th>date_modified</th></tr><tr><td>Sales</td><td>BuyingGroups</td><td>2016-06-02 10:04:03.263</td><td>2016-06-02 10:50:09.773</td></tr><tr><td>Sales</td><td>BuyingGroups_Archive</td><td>2016-06-02 10:04:03.267</td><td>2016-06-06 11:06:36.787</td></tr><tr><td>Sales</td><td>CustomerCategories</td><td>2016-06-02 10:04:03.270</td><td>2016-06-02 10:50:09.777</td></tr><tr><td>Sales</td><td>CustomerCategories_Archive</td><td>2016-06-02 10:04:03.273</td><td>2016-06-06 11:06:36.790</td></tr><tr><td>Sales</td><td>Customers</td><td>2016-06-02 10:04:03.387</td><td>2016-06-02 10:50:16.953</td></tr><tr><td>Sales</td><td>Customers_Archive</td><td>2016-06-02 10:04:03.390</td><td>2016-06-06 11:06:34.773</td></tr><tr><td>Sales</td><td>CustomerTransactions</td><td>2016-06-02 10:04:03.607</td><td>2016-06-06 11:07:00.153</td></tr><tr><td>Sales</td><td>InvoiceLines</td><td>2016-06-02 10:04:03.627</td><td>2016-06-06 11:06:39.317</td></tr><tr><td>Sales</td><td>Invoices</td><td>2016-06-02 10:04:03.540</td><td>2016-06-02 10:04:03.643</td></tr><tr><td>Sales</td><td>OrderLines</td><td>2016-06-02 10:04:03.573</td><td>2016-06-06 11:06:37.913</td></tr><tr><td>Sales</td><td>Orders</td><td>2016-06-02 10:04:03.433</td><td>2016-06-02 10:04:03.573</td></tr><tr><td>Sales</td><td>SpecialDeals</td><td>2016-06-02 10:04:03.513</td><td>2016-06-02 10:04:03.540</td></tr></table>"
                    }
                }
            ],
            "execution_count": 3
        },
        {
            "cell_type": "markdown",
            "source": [
                "What you can do is save the Notebook and the results will save with it.  You.\r\n",
                "•\tgetting help on an error\r\n",
                "•\tQA results\r\n",
                "•\tAudit results, etc.  pass a query to someone that does not have access.  (Could be an issue, but you have that issue now)\r\n",
                ""
            ],
            "metadata": {
                "azdata_cell_guid": "1e8e4210-24a7-46c9-8aa6-8ea7fb8d8708",
                "tags": []
            }
        },
        {
            "cell_type": "code",
            "source": [
                "select schema_name(schema_id) as schema_name,\r\n",
                "       [name] as table_name, [create_date] as date_created, [modify_date] as date_modified\r\n",
                "from sys.tables \r\n",
                "where schema_name(schema_id) = 'sales'  \r\n",
                "order by table_name;"
            ],
            "metadata": {
                "azdata_cell_guid": "17d861b3-3a05-478e-89f0-1a02ec46f9b8",
                "tags": []
            },
            "outputs": [
                {
                    "output_type": "display_data",
                    "data": {
                        "text/html": "(12 rows affected)"
                    },
                    "metadata": {}
                },
                {
                    "output_type": "display_data",
                    "data": {
                        "text/html": "Total execution time: 00:00:00.009"
                    },
                    "metadata": {}
                },
                {
                    "output_type": "execute_result",
                    "metadata": {},
                    "execution_count": 4,
                    "data": {
                        "application/vnd.dataresource+json": {
                            "schema": {
                                "fields": [
                                    {
                                        "name": "schema_name"
                                    },
                                    {
                                        "name": "table_name"
                                    },
                                    {
                                        "name": "date_created"
                                    },
                                    {
                                        "name": "date_modified"
                                    }
                                ]
                            },
                            "data": [
                                {
                                    "0": "Sales",
                                    "1": "BuyingGroups",
                                    "2": "2016-06-02 10:04:03.263",
                                    "3": "2016-06-02 10:50:09.773"
                                },
                                {
                                    "0": "Sales",
                                    "1": "BuyingGroups_Archive",
                                    "2": "2016-06-02 10:04:03.267",
                                    "3": "2016-06-06 11:06:36.787"
                                },
                                {
                                    "0": "Sales",
                                    "1": "CustomerCategories",
                                    "2": "2016-06-02 10:04:03.270",
                                    "3": "2016-06-02 10:50:09.777"
                                },
                                {
                                    "0": "Sales",
                                    "1": "CustomerCategories_Archive",
                                    "2": "2016-06-02 10:04:03.273",
                                    "3": "2016-06-06 11:06:36.790"
                                },
                                {
                                    "0": "Sales",
                                    "1": "Customers",
                                    "2": "2016-06-02 10:04:03.387",
                                    "3": "2016-06-02 10:50:16.953"
                                },
                                {
                                    "0": "Sales",
                                    "1": "Customers_Archive",
                                    "2": "2016-06-02 10:04:03.390",
                                    "3": "2016-06-06 11:06:34.773"
                                },
                                {
                                    "0": "Sales",
                                    "1": "CustomerTransactions",
                                    "2": "2016-06-02 10:04:03.607",
                                    "3": "2016-06-06 11:07:00.153"
                                },
                                {
                                    "0": "Sales",
                                    "1": "InvoiceLines",
                                    "2": "2016-06-02 10:04:03.627",
                                    "3": "2016-06-06 11:06:39.317"
                                },
                                {
                                    "0": "Sales",
                                    "1": "Invoices",
                                    "2": "2016-06-02 10:04:03.540",
                                    "3": "2016-06-02 10:04:03.643"
                                },
                                {
                                    "0": "Sales",
                                    "1": "OrderLines",
                                    "2": "2016-06-02 10:04:03.573",
                                    "3": "2016-06-06 11:06:37.913"
                                },
                                {
                                    "0": "Sales",
                                    "1": "Orders",
                                    "2": "2016-06-02 10:04:03.433",
                                    "3": "2016-06-02 10:04:03.573"
                                },
                                {
                                    "0": "Sales",
                                    "1": "SpecialDeals",
                                    "2": "2016-06-02 10:04:03.513",
                                    "3": "2016-06-02 10:04:03.540"
                                }
                            ]
                        },
                        "text/html": "<table><tr><th>schema_name</th><th>table_name</th><th>date_created</th><th>date_modified</th></tr><tr><td>Sales</td><td>BuyingGroups</td><td>2016-06-02 10:04:03.263</td><td>2016-06-02 10:50:09.773</td></tr><tr><td>Sales</td><td>BuyingGroups_Archive</td><td>2016-06-02 10:04:03.267</td><td>2016-06-06 11:06:36.787</td></tr><tr><td>Sales</td><td>CustomerCategories</td><td>2016-06-02 10:04:03.270</td><td>2016-06-02 10:50:09.777</td></tr><tr><td>Sales</td><td>CustomerCategories_Archive</td><td>2016-06-02 10:04:03.273</td><td>2016-06-06 11:06:36.790</td></tr><tr><td>Sales</td><td>Customers</td><td>2016-06-02 10:04:03.387</td><td>2016-06-02 10:50:16.953</td></tr><tr><td>Sales</td><td>Customers_Archive</td><td>2016-06-02 10:04:03.390</td><td>2016-06-06 11:06:34.773</td></tr><tr><td>Sales</td><td>CustomerTransactions</td><td>2016-06-02 10:04:03.607</td><td>2016-06-06 11:07:00.153</td></tr><tr><td>Sales</td><td>InvoiceLines</td><td>2016-06-02 10:04:03.627</td><td>2016-06-06 11:06:39.317</td></tr><tr><td>Sales</td><td>Invoices</td><td>2016-06-02 10:04:03.540</td><td>2016-06-02 10:04:03.643</td></tr><tr><td>Sales</td><td>OrderLines</td><td>2016-06-02 10:04:03.573</td><td>2016-06-06 11:06:37.913</td></tr><tr><td>Sales</td><td>Orders</td><td>2016-06-02 10:04:03.433</td><td>2016-06-02 10:04:03.573</td></tr><tr><td>Sales</td><td>SpecialDeals</td><td>2016-06-02 10:04:03.513</td><td>2016-06-02 10:04:03.540</td></tr></table>"
                    }
                }
            ],
            "execution_count": 4
        },
        {
            "cell_type": "markdown",
            "source": [
                "# Sample\r\n",
                ""
            ],
            "metadata": {
                "azdata_cell_guid": "286b0a67-7df5-42b9-adc3-87883cd914b7"
            }
        },
        {
            "cell_type": "code",
            "source": [
                ""
            ],
            "metadata": {
                "azdata_cell_guid": "42bd6c27-502f-4d4c-ac52-7f04ce0bfac7"
            },
            "outputs": [],
            "execution_count": 0
        }
    ]
}